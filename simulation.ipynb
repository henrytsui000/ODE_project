{
 "cells": [
  {
   "cell_type": "code",
   "execution_count": 1,
   "metadata": {},
   "outputs": [],
   "source": [
    "import sys\n",
    "import numpy as np\n",
    "from scipy.integrate import odeint\n",
    "import matplotlib.pyplot as plt\n",
    "from matplotlib.patches import Circle\n",
    "from ipywidgets import IntProgress\n",
    "from IPython.display import display"
   ]
  },
  {
   "cell_type": "markdown",
   "metadata": {},
   "source": [
    "## Set Parameter\n",
    "$L1, L2$ are two rods length\n",
    "\n",
    "$m1, m2$ are two bobs mass"
   ]
  },
  {
   "cell_type": "code",
   "execution_count": 2,
   "metadata": {},
   "outputs": [],
   "source": [
    "L1, L2 = 1, 1\n",
    "m1, m2 = 1, 2\n",
    "g = 9.81"
   ]
  },
  {
   "cell_type": "markdown",
   "metadata": {},
   "source": [
    "## Build up the forluma of Z\n",
    "\n",
    "Follow the Forluma by Understanding & Dicovery \n",
    "\n",
    "\\begin{align*}\n",
    "\\dot{z}_1 = \\frac{m_2g\\sin\\theta_2\\cos(\\theta_1-\\theta_2) - m_2\\sin(\\theta_1 - \\theta_2)[l_1z_1^2\\cos(\\theta_1 - \\theta_2) + l_2z_2^2] - (m_1+m_2)g\\sin\\theta_1}{l_1[m_1 + m_2\\sin^2(\\theta_1-\\theta_2)]},\\\\\n",
    "\\dot{z}_2 = \\frac{(m_1+m_2)[l_1z_1^2\\sin(\\theta_1-\\theta_2) - g\\sin\\theta_2 + g\\sin\\theta_1\\cos(\\theta_1-\\theta_2)]+m_2l_2z_2^2\\sin(\\theta_1-\\theta_2)\\cos(\\theta_1-\\theta_2)}{l_2[m_1 + m_2\\sin^2(\\theta_1-\\theta_2)]}\n",
    "\\end{align*}\n"
   ]
  },
  {
   "cell_type": "code",
   "execution_count": 3,
   "metadata": {},
   "outputs": [],
   "source": [
    "def deriv(y, t, L1, L2, m1, m2):\n",
    "    \"\"\"Return the first derivatives of y = theta1, z1, theta2, z2.\"\"\"\n",
    "    theta1, z1, theta2, z2 = y\n",
    "\n",
    "    c, s = np.cos(theta1-theta2), np.sin(theta1-theta2)\n",
    "\n",
    "    theta1dot = z1\n",
    "    z1dot = (m2*g*np.sin(theta2)*c - m2*s*(L1*z1**2*c + L2*z2**2) -\n",
    "             (m1+m2)*g*np.sin(theta1)) / L1 / (m1 + m2*s**2)\n",
    "\n",
    "    theta2dot = z2\n",
    "    z2dot = ((m1+m2)*(L1*z1**2*s - g*np.sin(theta2) + g*np.sin(theta1)*c) + \n",
    "             m2*L2*z2**2*s*c) / L2 / (m1 + m2*s**2)\n",
    "             \n",
    "    return theta1dot, z1dot, theta2dot, z2dot"
   ]
  },
  {
   "cell_type": "markdown",
   "metadata": {},
   "source": [
    "## Follow Lagrange Equation\n",
    "Calculus the total energy of the system.\n",
    "\\begin{align*}\n",
    "\\frac{\\mathrm{d}}{\\mathrm{d}t}\\left(\\frac{\\partial\\mathcal{L}}{\\partial \\dot{q}_i}\\right) - \\frac{\\partial \\mathcal{L}}{\\partial q_i} = 0 \\quad \\mathrm{for}\\;q_i = \\theta_1, \\theta_2.\n",
    "\\end{align*}\n",
    "\\begin{align*}\n",
    "V &= m_1gy_1 + m_2gy_2 = -(m_1 + m_2)l_1g\\cos\\theta_1 - m_2l_2g\\cos\\theta_2\\\\\n",
    "T \n",
    "&= \\tfrac{1}{2}m_1l_1^2\\dot{\\theta}_1^2 + \\tfrac{1}{2}m_2[l_1^2\\dot{\\theta}_1^2 + l_2^2\\dot{\\theta}_2^2 + 2l_1l_2\\dot{\\theta}_1\\dot{\\theta}_2\\cos(\\theta_1 - \\theta_2)]\n",
    "\\end{align*}\n",
    "\n",
    "\\begin{align*}\n",
    "\\mathcal{L} =  \\tfrac{1}{2}(m_1+m_2)l_1^2\\dot{\\theta}_1^2 + \\tfrac{1}{2}m_2l_2^2\\dot{\\theta}_2^2 + m_1l_1l_2\\dot{\\theta}_1\\dot{\\theta}_2\\cos(\\theta_1 - \\theta_2) + (m_1+m_2)l_1g\\cos\\theta_1 + m_2gl_2\\cos\\theta_2.\n",
    "\\end{align*}\n"
   ]
  },
  {
   "cell_type": "code",
   "execution_count": 4,
   "metadata": {},
   "outputs": [],
   "source": [
    "def calc_E(y):\n",
    "    th1, th1d, th2, th2d = y.T\n",
    "    V = -(m1+m2)*L1*g*np.cos(th1) - m2*L2*g*np.cos(th2)\n",
    "    T = 0.5*m1*(L1*th1d)**2 + 0.5*m2*((L1*th1d)**2 + (L2*th2d)**2 +\n",
    "            2*L1*L2*th1d*th2d*np.cos(th1-th2))\n",
    "    return T + V"
   ]
  },
  {
   "cell_type": "markdown",
   "metadata": {},
   "source": [
    "## Build up ans Solve the Equation"
   ]
  },
  {
   "cell_type": "code",
   "execution_count": 5,
   "metadata": {},
   "outputs": [],
   "source": [
    "tmax, dt = 30, 0.01\n",
    "t = np.arange(0, tmax+dt, dt)\n",
    "\n",
    "y0 = np.array([0*np.pi/7, 0, 3*np.pi/12, 0])\n",
    "y = odeint(deriv, y0, t, args=(L1, L2, m1, m2))"
   ]
  },
  {
   "cell_type": "markdown",
   "metadata": {},
   "source": [
    "## Throw The Error if energy drift too large"
   ]
  },
  {
   "cell_type": "code",
   "execution_count": 7,
   "metadata": {},
   "outputs": [],
   "source": [
    "EDRIFT = 0.05\n",
    "E = calc_E(y0)\n",
    "if np.max(np.sum(np.abs(calc_E(y) - E))) > EDRIFT:\n",
    "    sys.exit('Maximum energy drift of {} exceeded.'.format(EDRIFT))"
   ]
  },
  {
   "cell_type": "code",
   "execution_count": 8,
   "metadata": {},
   "outputs": [],
   "source": [
    "theta1, theta2 = y[:,0], y[:,2]\n",
    "x1 = L1 * np.sin(theta1)\n",
    "y1 = -L1 * np.cos(theta1)\n",
    "x2 = x1 + L2 * np.sin(theta2)\n",
    "y2 = y1 - L2 * np.cos(theta2)"
   ]
  },
  {
   "cell_type": "code",
   "execution_count": 10,
   "metadata": {},
   "outputs": [],
   "source": [
    "r = 0.05\n",
    "# Plot a trail of the m2 bob's position for the last trail_secs seconds.\n",
    "trail_secs = 1\n",
    "max_trail = int(trail_secs / dt)"
   ]
  },
  {
   "cell_type": "markdown",
   "metadata": {},
   "source": [
    "## Make the Graph in Time i"
   ]
  },
  {
   "cell_type": "code",
   "execution_count": 11,
   "metadata": {},
   "outputs": [],
   "source": [
    "def make_plot(i):\n",
    "    ax.plot([0, x1[i], x2[i]], [0, y1[i], y2[i]], lw=2, c='k')\n",
    "    c0 = Circle((0, 0), r/2, fc='k', zorder=10)\n",
    "    c1 = Circle((x1[i], y1[i]), r, fc='b', ec='b', zorder=10)\n",
    "    c2 = Circle((x2[i], y2[i]), r, fc='r', ec='r', zorder=10)\n",
    "    \n",
    "    ax.add_patch(c0)\n",
    "    ax.add_patch(c1)\n",
    "    ax.add_patch(c2)\n",
    "\n",
    "    # The trail will be divided into ns segments and plotted as a fading line.\n",
    "    ns = 20\n",
    "    s = max_trail // ns\n",
    "\n",
    "    for j in range(ns):\n",
    "        imin = i - (ns-j)*s\n",
    "        if imin < 0:\n",
    "            continue\n",
    "        imax = imin + s + 1\n",
    "        # The fading looks better if we square the fractional length along the trail.\n",
    "        alpha = (j/ns)**2\n",
    "        ax.plot(x2[imin:imax], y2[imin:imax], c='r', solid_capstyle='butt',\n",
    "                lw=2, alpha=alpha)\n",
    "\n",
    "    # Centre the image on the fixed anchor point, and ensure the axes are equal\n",
    "    ax.set_xlim(-L1-L2-r, L1+L2+r)\n",
    "    ax.set_ylim(-L1-L2-r, L1+L2+r)\n",
    "    ax.set_aspect('equal', adjustable='box')\n",
    "    plt.axis('off')\n",
    "    plt.savefig('frames/img{:03d}.png'.format(i//di), dpi=72)\n",
    "    plt.cla()"
   ]
  },
  {
   "cell_type": "markdown",
   "metadata": {},
   "source": [
    "## Do simulation\n",
    "Frames per second"
   ]
  },
  {
   "cell_type": "code",
   "execution_count": 26,
   "metadata": {},
   "outputs": [
    {
     "data": {
      "application/vnd.jupyter.widget-view+json": {
       "model_id": "30093217dbb049b9904282b7b1a97c37",
       "version_major": 2,
       "version_minor": 0
      },
      "text/plain": [
       "IntProgress(value=0)"
      ]
     },
     "metadata": {},
     "output_type": "display_data"
    },
    {
     "data": {
      "image/png": "[encoded data removed]",
      "text/plain": [
       "<Figure size 599.998x450 with 1 Axes>"
      ]
     },
     "metadata": {
      "needs_background": "light"
     },
     "output_type": "display_data"
    }
   ],
   "source": [
    "fps = 10\n",
    "di = int(1/fps/dt)\n",
    "fig = plt.figure(figsize=(8.3333, 6.25), dpi=72)\n",
    "ax = fig.add_subplot(111)\n",
    "p = IntProgress()\n",
    "display(p)\n",
    "\n",
    "for i in range(0, t.size, di):\n",
    "    p.value = (i/t.size)*100+1\n",
    "    make_plot(i)"
   ]
  },
  {
   "cell_type": "markdown",
   "metadata": {},
   "source": [
    "## Merge png to MP4"
   ]
  },
  {
   "cell_type": "code",
   "execution_count": 13,
   "metadata": {},
   "outputs": [
    {
     "name": "stdout",
     "output_type": "stream",
     "text": [
      "ffmpeg version 4.2.4-1ubuntu0.1 Copyright (c) 2000-2020 the FFmpeg developers\n",
      "  built with gcc 9 (Ubuntu 9.3.0-10ubuntu2)\n",
      "  configuration: --prefix=/usr --extra-version=1ubuntu0.1 --toolchain=hardened --libdir=/usr/lib/x86_64-linux-gnu --incdir=/usr/include/x86_64-linux-gnu --arch=amd64 --enable-gpl --disable-stripping --enable-avresample --disable-filter=resample --enable-avisynth --enable-gnutls --enable-ladspa --enable-libaom --enable-libass --enable-libbluray --enable-libbs2b --enable-libcaca --enable-libcdio --enable-libcodec2 --enable-libflite --enable-libfontconfig --enable-libfreetype --enable-libfribidi --enable-libgme --enable-libgsm --enable-libjack --enable-libmp3lame --enable-libmysofa --enable-libopenjpeg --enable-libopenmpt --enable-libopus --enable-libpulse --enable-librsvg --enable-librubberband --enable-libshine --enable-libsnappy --enable-libsoxr --enable-libspeex --enable-libssh --enable-libtheora --enable-libtwolame --enable-libvidstab --enable-libvorbis --enable-libvpx --enable-libwavpack --enable-libwebp --enable-libx265 --enable-libxml2 --enable-libxvid --enable-libzmq --enable-libzvbi --enable-lv2 --enable-omx --enable-openal --enable-opencl --enable-opengl --enable-sdl2 --enable-libdc1394 --enable-libdrm --enable-libiec61883 --enable-nvenc --enable-chromaprint --enable-frei0r --enable-libx264 --enable-shared\n",
      "  WARNING: library configuration mismatch\n",
      "  avcodec     configuration: --prefix=/usr --extra-version=1ubuntu0.1 --toolchain=hardened --libdir=/usr/lib/x86_64-linux-gnu --incdir=/usr/include/x86_64-linux-gnu --arch=amd64 --enable-gpl --disable-stripping --enable-avresample --disable-filter=resample --enable-avisynth --enable-gnutls --enable-ladspa --enable-libaom --enable-libass --enable-libbluray --enable-libbs2b --enable-libcaca --enable-libcdio --enable-libcodec2 --enable-libflite --enable-libfontconfig --enable-libfreetype --enable-libfribidi --enable-libgme --enable-libgsm --enable-libjack --enable-libmp3lame --enable-libmysofa --enable-libopenjpeg --enable-libopenmpt --enable-libopus --enable-libpulse --enable-librsvg --enable-librubberband --enable-libshine --enable-libsnappy --enable-libsoxr --enable-libspeex --enable-libssh --enable-libtheora --enable-libtwolame --enable-libvidstab --enable-libvorbis --enable-libvpx --enable-libwavpack --enable-libwebp --enable-libx265 --enable-libxml2 --enable-libxvid --enable-libzmq --enable-libzvbi --enable-lv2 --enable-omx --enable-openal --enable-opencl --enable-opengl --enable-sdl2 --enable-libdc1394 --enable-libdrm --enable-libiec61883 --enable-nvenc --enable-chromaprint --enable-frei0r --enable-libx264 --enable-shared --enable-version3 --disable-doc --disable-programs --enable-libaribb24 --enable-liblensfun --enable-libopencore_amrnb --enable-libopencore_amrwb --enable-libtesseract --enable-libvo_amrwbenc\n",
      "  libavutil      56. 31.100 / 56. 31.100\n",
      "  libavcodec     58. 54.100 / 58. 54.100\n",
      "  libavformat    58. 29.100 / 58. 29.100\n",
      "  libavdevice    58.  8.100 / 58.  8.100\n",
      "  libavfilter     7. 57.100 /  7. 57.100\n",
      "  libavresample   4.  0.  0 /  4.  0.  0\n",
      "  libswscale      5.  5.100 /  5.  5.100\n",
      "  libswresample   3.  5.100 /  3.  5.100\n",
      "  libpostproc    55.  5.100 / 55.  5.100\n",
      "Input #0, image2, from 'frames/img%03d.png':\n",
      "  Duration: 00:00:12.04, start: 0.000000, bitrate: N/A\n",
      "    Stream #0:0: Video: png, rgba(pc), 599x450 [SAR 2835:2835 DAR 599:450], 25 fps, 25 tbr, 25 tbn, 25 tbc\n",
      "Stream mapping:\n",
      "  Stream #0:0 -> #0:0 (png (native) -> h264 (libx264))\n",
      "Press [q] to stop, [?] for help\n",
      "\u001b[1;36m[libx264 @ 0x559cac0b1140] \u001b[0musing SAR=1/1\n",
      "\u001b[1;36m[libx264 @ 0x559cac0b1140] \u001b[0musing cpu capabilities: MMX2 SSE2Fast SSSE3 SSE4.2 AVX FMA3 BMI2 AVX2\n",
      "\u001b[1;36m[libx264 @ 0x559cac0b1140] \u001b[0mprofile High 4:4:4 Predictive, level 3.0, 4:4:4 8-bit\n",
      "\u001b[1;36m[libx264 @ 0x559cac0b1140] \u001b[0m264 - core 155 r2917 0a84d98 - H.264/MPEG-4 AVC codec - Copyleft 2003-2018 - http://www.videolan.org/x264.html - options: cabac=1 ref=3 deblock=1:0:0 analyse=0x1:0x111 me=hex subme=7 psy=1 psy_rd=1.00:0.00 mixed_ref=1 me_range=16 chroma_me=1 trellis=1 8x8dct=0 cqm=0 deadzone=21,11 fast_pskip=1 chroma_qp_offset=4 threads=14 lookahead_threads=2 sliced_threads=0 nr=0 decimate=1 interlaced=0 bluray_compat=0 constrained_intra=0 bframes=3 b_pyramid=2 b_adapt=1 b_bias=0 direct=1 weightb=1 open_gop=0 weightp=2 keyint=250 keyint_min=20 scenecut=40 intra_refresh=0 rc_lookahead=40 rc=crf mbtree=1 crf=23.0 qcomp=0.60 qpmin=0 qpmax=69 qpstep=4 ip_ratio=1.40 aq=1:1.00\n",
      "Output #0, mp4, to 'out2.mp4':\n",
      "  Metadata:\n",
      "    encoder         : Lavf58.29.100\n",
      "    Stream #0:0: Video: h264 (libx264) (avc1 / 0x31637661), yuv444p, 599x450 [SAR 1:1 DAR 599:450], q=-1--1, 20 fps, 10240 tbn, 20 tbc\n",
      "    Metadata:\n",
      "      encoder         : Lavc58.54.100 libx264\n",
      "    Side data:\n",
      "      cpb: bitrate max/min/avg: 0/0/0 buffer size: 0 vbv_delay: -1\n",
      "frame=  301 fps=0.0 q=-1.0 Lsize=     180kB time=00:00:14.90 bitrate=  99.2kbits/s speed=30.2x    \n",
      "video:177kB audio:0kB subtitle:0kB other streams:0kB global headers:0kB muxing overhead: 2.207074%\n",
      "\u001b[1;36m[libx264 @ 0x559cac0b1140] \u001b[0mframe I:4     Avg QP: 7.33  size:   998\n",
      "\u001b[1;36m[libx264 @ 0x559cac0b1140] \u001b[0mframe P:149   Avg QP:17.59  size:   691\n",
      "\u001b[1;36m[libx264 @ 0x559cac0b1140] \u001b[0mframe B:148   Avg QP:22.43  size:   494\n",
      "\u001b[1;36m[libx264 @ 0x559cac0b1140] \u001b[0mconsecutive B-frames: 22.6% 25.9% 28.9% 22.6%\n",
      "\u001b[1;36m[libx264 @ 0x559cac0b1140] \u001b[0mmb I  I16..4: 98.2%  0.0%  1.8%\n",
      "\u001b[1;36m[libx264 @ 0x559cac0b1140] \u001b[0mmb P  I16..4:  0.9%  0.0%  0.8%  P16..4:  0.4%  0.5%  0.2%  0.0%  0.0%    skip:97.2%\n",
      "\u001b[1;36m[libx264 @ 0x559cac0b1140] \u001b[0mmb B  I16..4:  0.1%  0.0%  0.2%  B16..8:  2.0%  0.7%  0.3%  direct: 0.1%  skip:96.6%  L0:55.2% L1:41.5% BI: 3.3%\n",
      "\u001b[1;36m[libx264 @ 0x559cac0b1140] \u001b[0mcoded y,u,v intra: 11.9% 4.0% 3.9% inter: 0.4% 0.1% 0.1%\n",
      "\u001b[1;36m[libx264 @ 0x559cac0b1140] \u001b[0mi16 v,h,dc,p: 93%  3%  3%  0%\n",
      "\u001b[1;36m[libx264 @ 0x559cac0b1140] \u001b[0mi4 v,h,dc,ddl,ddr,vr,hd,vl,hu: 32% 11% 35%  2%  2%  8%  1%  7%  1%\n",
      "\u001b[1;36m[libx264 @ 0x559cac0b1140] \u001b[0mWeighted P-Frames: Y:0.0% UV:0.0%\n",
      "\u001b[1;36m[libx264 @ 0x559cac0b1140] \u001b[0mref P L0: 66.9%  7.2% 14.3% 11.7%\n",
      "\u001b[1;36m[libx264 @ 0x559cac0b1140] \u001b[0mref B L0: 81.6% 14.0%  4.3%\n",
      "\u001b[1;36m[libx264 @ 0x559cac0b1140] \u001b[0mref B L1: 98.0%  2.0%\n",
      "\u001b[1;36m[libx264 @ 0x559cac0b1140] \u001b[0mkb/s:95.71\n"
     ]
    }
   ],
   "source": [
    "!ffmpeg -r 20 -i frames/img%03d.png -c:v libx264 out2.mp4"
   ]
  }
 ],
 "metadata": {
  "interpreter": {
   "hash": "916dbcbb3f70747c44a77c7bcd40155683ae19c65e1c03b4aa3499c5328201f1"
  },
  "kernelspec": {
   "display_name": "Python 3.8.10 64-bit",
   "language": "python",
   "name": "python3"
  },
  "language_info": {
   "codemirror_mode": {
    "name": "ipython",
    "version": 3
   },
   "file_extension": ".py",
   "mimetype": "text/x-python",
   "name": "python",
   "nbconvert_exporter": "python",
   "pygments_lexer": "ipython3",
   "version": "3.8.10"
  },
  "orig_nbformat": 4
 },
 "nbformat": 4,
 "nbformat_minor": 2
}
